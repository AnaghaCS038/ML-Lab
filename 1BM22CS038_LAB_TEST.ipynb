{
  "nbformat": 4,
  "nbformat_minor": 0,
  "metadata": {
    "colab": {
      "provenance": []
    },
    "kernelspec": {
      "name": "python3",
      "display_name": "Python 3"
    },
    "language_info": {
      "name": "python"
    }
  },
  "cells": [
    {
      "cell_type": "code",
      "execution_count": 8,
      "metadata": {
        "colab": {
          "base_uri": "https://localhost:8080/"
        },
        "id": "7KDYWen8z89Y",
        "outputId": "72f43d96-774d-45e2-c539-4ab766c5a9dd"
      },
      "outputs": [
        {
          "output_type": "stream",
          "name": "stdout",
          "text": [
            "Accuracy: 0.7467532467532467\n",
            "F1 Score: 0.5894736842105263\n"
          ]
        }
      ],
      "source": [
        "import pandas as pd\n",
        "from sklearn.model_selection import train_test_split\n",
        "from sklearn.svm import SVC\n",
        "from sklearn.metrics import f1_score\n",
        "from sklearn.metrics import accuracy_score\n",
        "\n",
        "df = pd.read_csv('/content/sample_data/diabetes - diabetes.csv')\n",
        "feature_columns = ['Glucose', 'Insulin', 'BMI']\n",
        "target_column = 'Outcome'\n",
        "\n",
        "X = df[feature_columns]\n",
        "y = df[target_column]\n",
        "\n",
        "\n",
        "X_train, X_test, y_train, y_test = train_test_split(X, y, test_size=0.2, random_state=42)\n",
        "\n",
        "\n",
        "svm_model = SVC()\n",
        "\n",
        "\n",
        "svm_model.fit(X_train, y_train)\n",
        "\n",
        "\n",
        "y_pred = svm_model.predict(X_test)\n",
        "\n",
        "\n",
        "f1 = f1_score(y_test, y_pred)\n",
        "acc = accuracy_score(y_test, y_pred);\n",
        "print(f\"Accuracy: {acc}\")\n",
        "print(f\"F1 Score: {f1}\")"
      ]
    },
    {
      "cell_type": "code",
      "source": [
        "import pandas as pd\n",
        "from sklearn.model_selection import train_test_split\n",
        "from sklearn.svm import SVC\n",
        "from sklearn.metrics import f1_score\n",
        "from sklearn.linear_model import LogisticRegression\n",
        "from sklearn.metrics import accuracy_score\n",
        "\n",
        "\n",
        "logistic_model = LogisticRegression(random_state=42)\n",
        "\n",
        "df = pd.read_csv('/content/sample_data/diabetes - diabetes.csv')\n",
        "feature_columns = ['Glucose', 'Insulin', 'BMI']\n",
        "target_column = 'Outcome'\n",
        "\n",
        "X = df[feature_columns]\n",
        "y = df[target_column]\n",
        "X_train, X_test, y_train, y_test = train_test_split(X, y, test_size=0.2, random_state=42)\n",
        "logistic_model.fit(X_train, y_train)\n",
        "\n",
        "\n",
        "y_pred_logistic = logistic_model.predict(X_test)\n",
        "\n",
        "\n",
        "f1_logistic = f1_score(y_test, y_pred_logistic)\n",
        "\n",
        "acc = accuracy_score(y_test, y_pred_logistic);\n",
        "print(f\"Accuracy: {acc}\")\n",
        "\n",
        "print(f\"Logistic Regression F1 Score: {f1_logistic}\")"
      ],
      "metadata": {
        "colab": {
          "base_uri": "https://localhost:8080/"
        },
        "id": "0J0OpzYK17p5",
        "outputId": "01379743-f2d1-42b0-c1ed-3c7521f58eeb"
      },
      "execution_count": 7,
      "outputs": [
        {
          "output_type": "stream",
          "name": "stdout",
          "text": [
            "Accuracy: 0.7792207792207793\n",
            "Logistic Regression F1 Score: 0.66\n"
          ]
        }
      ]
    },
    {
      "cell_type": "code",
      "source": [
        "import pandas as pd\n",
        "from sklearn.model_selection import train_test_split\n",
        "from sklearn.svm import SVC\n",
        "from sklearn.metrics import f1_score\n",
        "from sklearn.metrics import accuracy_score\n",
        "from sklearn.ensemble import AdaBoostClassifier\n",
        "from sklearn.tree import DecisionTreeClassifier\n",
        "from sklearn.metrics import accuracy_score, confusion_matrix\n",
        "\n",
        "df = pd.read_csv('/content/sample_data/diabetes - diabetes.csv')\n",
        "feature_columns = ['Glucose', 'Insulin', 'BMI']\n",
        "target_column = 'Outcome'\n",
        "\n",
        "X = df[feature_columns]\n",
        "y = df[target_column]\n",
        "\n",
        "X_train, X_test, y_train, y_test = train_test_split(X, y, test_size=0.2, random_state=42)\n",
        "\n",
        "estimator = DecisionTreeClassifier(max_depth=1)\n",
        "ada_model = AdaBoostClassifier(estimator=estimator, n_estimators=50, random_state=42)\n",
        "ada_model.fit(X_train, y_train)\n",
        "\n",
        "\n",
        "y_pred = ada_model.predict(X_test)\n",
        "\n",
        "\n",
        "f1 = f1_score(y_test, y_pred)\n",
        "acc = accuracy_score(y_test, y_pred);\n",
        "print(f\"Accuracy: {acc}\")\n",
        "print(f\"F1 Score: {f1}\")\n",
        "\n"
      ],
      "metadata": {
        "colab": {
          "base_uri": "https://localhost:8080/"
        },
        "id": "i8BSya5r51cp",
        "outputId": "ba8dddf7-2486-4944-f8a0-3601a8143a1b"
      },
      "execution_count": 9,
      "outputs": [
        {
          "output_type": "stream",
          "name": "stdout",
          "text": [
            "Accuracy: 0.7467532467532467\n",
            "F1 Score: 0.6213592233009708\n"
          ]
        }
      ]
    }
  ]
}